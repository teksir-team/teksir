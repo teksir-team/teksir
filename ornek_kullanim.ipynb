{
 "cells": [
  {
   "cell_type": "code",
   "execution_count": null,
   "metadata": {},
   "outputs": [],
   "source": [
    "import random\n",
    "import numpy as np\n",
    "\n",
    "def fix_random_seeds(seed):\n",
    "    random.seed(seed)\n",
    "    np.random.seed(seed)"
   ]
  },
  {
   "cell_type": "markdown",
   "metadata": {},
   "source": [
    "# Veri kümesini okuma"
   ]
  },
  {
   "cell_type": "code",
   "execution_count": null,
   "metadata": {},
   "outputs": [],
   "source": [
    "import re\n",
    "import pandas as pd"
   ]
  },
  {
   "cell_type": "code",
   "execution_count": null,
   "metadata": {},
   "outputs": [],
   "source": [
    "ttc_df = pd.read_csv(\"data/ttc_3600.csv\")\n",
    "\n",
    "# Unicode karakterleri filtrele.\n",
    "filter_unicodes = lambda text: re.sub(r'[^\\x00-\\x7fışğüöçİĞÜŞÇÖ]',r'', text)\n",
    "ttc_df.text = ttc_df.text.apply(filter_unicodes)\n",
    "\n",
    "# Fasttext formatına uygun hale getirme.\n",
    "for i,row in ttc_df.iterrows():\n",
    "    label = row[\"label\"]\n",
    "    text = \" \" + row[\"text\"] \n",
    "    ttc_df[\"text\"][i] = text\n",
    "    label = \"__label__\" + row[\"label\"]\n",
    "    ttc_df[\"label\"][i] = label"
   ]
  },
  {
   "cell_type": "code",
   "execution_count": null,
   "metadata": {},
   "outputs": [],
   "source": [
    "from augmentator import BertAugmentator\n",
    "\n",
    "augmentation_config = {\n",
    "    \"model_name\": \"dbmdz/bert-base-turkish-cased\",\n",
    "    \"frac\": 0.2\n",
    "}\n",
    "\n",
    "bert_augmentator = BertAugmentator(augmentation_config=augmentation_config)"
   ]
  },
  {
   "cell_type": "code",
   "execution_count": null,
   "metadata": {},
   "outputs": [],
   "source": [
    "from sentencize import Sentencizer\n",
    "\n",
    "# Veri kümesi genel olarak paragraflardan oluştuğu için cümle\n",
    "# ayırma (sentence segmentation) uygulanması gerekiyor. \n",
    "sentencizer = Sentencizer()"
   ]
  },
  {
   "cell_type": "markdown",
   "metadata": {},
   "source": [
    "# Eğitim ve test kümesine ayırma"
   ]
  },
  {
   "cell_type": "code",
   "execution_count": null,
   "metadata": {},
   "outputs": [],
   "source": [
    "from sklearn.model_selection import train_test_split"
   ]
  },
  {
   "cell_type": "code",
   "execution_count": null,
   "metadata": {},
   "outputs": [],
   "source": [
    "X_train, X_test = train_test_split(ttc_df, test_size=0.2, random_state=42)"
   ]
  },
  {
   "cell_type": "code",
   "execution_count": null,
   "metadata": {},
   "outputs": [],
   "source": [
    "# Arttırımın uygulanacağı veri kümesini rastgele olarak örnekle.\n",
    "to_augment_x_train = X_train.sample(frac=0.5, random_state=42)"
   ]
  },
  {
   "cell_type": "markdown",
   "metadata": {},
   "source": [
    "# Veri arttırımını uygulama"
   ]
  },
  {
   "cell_type": "code",
   "execution_count": null,
   "metadata": {},
   "outputs": [],
   "source": [
    "from tqdm import tqdm"
   ]
  },
  {
   "cell_type": "code",
   "execution_count": null,
   "metadata": {},
   "outputs": [],
   "source": [
    "augmented_samples = []\n",
    "\n",
    "for idx, sample in tqdm(to_augment_x_train.iterrows(), total=len(to_augment_x_train)):\n",
    "    label = sample.values[0]\n",
    "    text = sample.values[1]\n",
    "    text_sentences = sentencizer.sentencize(text)\n",
    "    augmented_sentences = []\n",
    "    for sent in text_sentences[0]:\n",
    "        augmented_sentences.append(bert_augmentator.augment(sent))\n",
    "\n",
    "    augmented_text = \" \".join(augmented_sentences)\n",
    "    augmented_samples.append((label, augmented_text))"
   ]
  },
  {
   "cell_type": "code",
   "execution_count": null,
   "metadata": {},
   "outputs": [],
   "source": [
    "# Arttırılmış veriyi kaydet.\n",
    "augmented_df = pd.DataFrame(augmented_samples, columns=[\"label\", \"text\"])\n",
    "augmented_df.to_csv(\"augmented_samples.csv\", index=False)"
   ]
  },
  {
   "cell_type": "code",
   "execution_count": null,
   "metadata": {},
   "outputs": [],
   "source": [
    "# Veri arttırımı sonucunda elde edilen yeni örnekler BERT tokenizer'ına göre\n",
    "# çıktı üretiyor. Bu yüzden eğitim ve test kümesine de bu işlemi uyguluyoruz.\n",
    "bert_tokenize = lambda text: \" \".join(bert_augmentator.pipeline.tokenizer.tokenize(text)).replace(\" ##\", \"\")\n",
    "\n",
    "X_train.text = X_train.text.apply(bert_tokenize)\n",
    "X_test.text = X_test.text.apply(bert_tokenize)\n",
    "\n",
    "# Orijinal veri ile arttırılmış veriyi birleştiriyoruz.\n",
    "X_train_augmented = pd.concat([\n",
    "           X_train, augmented_df\n",
    "])"
   ]
  },
  {
   "cell_type": "code",
   "execution_count": null,
   "metadata": {},
   "outputs": [],
   "source": [
    "def save_to_file(filename, df):\n",
    "    with open(filename, \"w\") as f:\n",
    "        for idx, sample in df.iterrows():\n",
    "            write_text = sample.values[0] + ' ' + sample.values[1] + '\\n'\n",
    "            f.write(write_text)"
   ]
  },
  {
   "cell_type": "code",
   "execution_count": null,
   "metadata": {},
   "outputs": [],
   "source": [
    "# Verilerin son halini dosyaya kaydetme.\n",
    "save_to_file(filename=\"X_tr.train\", df=X_train)\n",
    "save_to_file(filename=\"X_tr_augmented.train\", df=X_train_augmented)\n",
    "save_to_file(filename=\"X_test.test\", df=X_test)"
   ]
  },
  {
   "cell_type": "code",
   "execution_count": null,
   "metadata": {},
   "outputs": [],
   "source": [
    "# Önceden eğitilmiş fastText embeddingleri\n",
    "# !wget https://dl.fbaipublicfiles.com/fasttext/vectors-crawl/cc.tr.300.vec.gz\n",
    "# !gunzip cc.tr.300.vec.gz"
   ]
  },
  {
   "cell_type": "markdown",
   "metadata": {},
   "source": [
    "# Sınıflandırma"
   ]
  },
  {
   "cell_type": "code",
   "execution_count": null,
   "metadata": {},
   "outputs": [],
   "source": [
    "import fasttext"
   ]
  },
  {
   "cell_type": "code",
   "execution_count": null,
   "metadata": {},
   "outputs": [],
   "source": [
    "fix_random_seeds(seed=42)\n",
    "model = fasttext.train_supervised(input=\"X_tr.train\", \n",
    "                                  lr=1.0, epoch=25, \n",
    "                                  wordNgrams=2, dim=300, \n",
    "                                  pretrainedVectors=\"cc.tr.300.vec\")"
   ]
  },
  {
   "cell_type": "code",
   "execution_count": null,
   "metadata": {},
   "outputs": [],
   "source": [
    "fix_random_seeds(seed=42)\n",
    "model_augmented = fasttext.train_supervised(input=\"X_tr_augmented.train\", \n",
    "                                            lr=1.0, epoch=25, \n",
    "                                            wordNgrams=2, dim=300, \n",
    "                                            pretrainedVectors=\"cc.tr.300.vec\")"
   ]
  },
  {
   "cell_type": "markdown",
   "metadata": {},
   "source": [
    "# Sonuçlar ve Değerlendirme"
   ]
  },
  {
   "cell_type": "code",
   "execution_count": null,
   "metadata": {},
   "outputs": [],
   "source": [
    "from sklearn.metrics import classification_report"
   ]
  },
  {
   "cell_type": "code",
   "execution_count": null,
   "metadata": {},
   "outputs": [],
   "source": [
    "def predict(model, test_data):\n",
    "\n",
    "    predictions = []\n",
    "    for idx, sample in test_data.iterrows():\n",
    "        prediction = model.predict(sample.values[1])\n",
    "        predictions.append(prediction[0][0])\n",
    "        \n",
    "    return predictions"
   ]
  },
  {
   "cell_type": "code",
   "execution_count": null,
   "metadata": {},
   "outputs": [],
   "source": [
    "model_predictions = predict(model, X_test)\n",
    "model_augmented_predictions = predict(model_augmented, X_test)"
   ]
  },
  {
   "cell_type": "code",
   "execution_count": null,
   "metadata": {},
   "outputs": [],
   "source": [
    "model1_report = classification_report(y_true, model_predictions, digits=3)\n",
    "model_augmented_report = classification_report(y_true, model_augmented_predictions, digits=3)"
   ]
  },
  {
   "cell_type": "code",
   "execution_count": null,
   "metadata": {},
   "outputs": [],
   "source": [
    "print(model1_report)"
   ]
  },
  {
   "cell_type": "code",
   "execution_count": null,
   "metadata": {},
   "outputs": [],
   "source": [
    "print(model_augmented_report)"
   ]
  }
 ],
 "metadata": {
  "kernelspec": {
   "display_name": "Python 3",
   "language": "python",
   "name": "python3"
  },
  "language_info": {
   "codemirror_mode": {
    "name": "ipython",
    "version": 3
   },
   "file_extension": ".py",
   "mimetype": "text/x-python",
   "name": "python",
   "nbconvert_exporter": "python",
   "pygments_lexer": "ipython3",
   "version": "3.6.9"
  }
 },
 "nbformat": 4,
 "nbformat_minor": 2
}
